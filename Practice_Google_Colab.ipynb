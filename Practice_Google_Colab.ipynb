{
  "nbformat": 4,
  "nbformat_minor": 0,
  "metadata": {
    "colab": {
      "name": "Practice_Google_Colab.ipynb",
      "provenance": []
    },
    "kernelspec": {
      "name": "python3",
      "display_name": "Python 3"
    }
  },
  "cells": [
    {
      "cell_type": "code",
      "metadata": {
        "id": "GwYaH-l-sDrI",
        "colab_type": "code",
        "colab": {}
      },
      "source": [
        "# Code to read csv file into colaboratory:\n",
        "!pip install -U -q PyDrive\n",
        "from pydrive.auth import GoogleAuth\n",
        "from pydrive.drive import GoogleDrive\n",
        "from google.colab import auth\n",
        "from oauth2client.client import GoogleCredentials"
      ],
      "execution_count": 0,
      "outputs": []
    },
    {
      "cell_type": "code",
      "metadata": {
        "id": "A-o6J7aysNoM",
        "colab_type": "code",
        "colab": {}
      },
      "source": [
        "#STEP-2: Autheticate E-Mail ID\n",
        "\n",
        "auth.authenticate_user()\n",
        "gauth = GoogleAuth()\n",
        "gauth.credentials = GoogleCredentials.get_application_default()\n",
        "drive = GoogleDrive(gauth)"
      ],
      "execution_count": 0,
      "outputs": []
    },
    {
      "cell_type": "code",
      "metadata": {
        "id": "-AHLRuZfsTSF",
        "colab_type": "code",
        "colab": {}
      },
      "source": [
        "#2.1 Get the file\n",
        "downloaded = drive.CreateFile({'id':'14rRPgaBhacpW15ZkmtA3g2rKWa98LJVq'}) # replace the id with id of file you want to access\n",
        "downloaded.GetContentFile('station_salvador.csv') "
      ],
      "execution_count": 0,
      "outputs": []
    },
    {
      "cell_type": "code",
      "metadata": {
        "id": "R2YwUaeJt0r5",
        "colab_type": "code",
        "colab": {
          "base_uri": "https://localhost:8080/",
          "height": 204
        },
        "outputId": "19e70965-fd77-4eef-fa66-05d69d385a1e"
      },
      "source": [
        "import pandas as pd\n",
        "df = pd.read_csv('station_salvador.csv')\n",
        "df.head()"
      ],
      "execution_count": 6,
      "outputs": [
        {
          "output_type": "execute_result",
          "data": {
            "text/html": [
              "<div>\n",
              "<style scoped>\n",
              "    .dataframe tbody tr th:only-of-type {\n",
              "        vertical-align: middle;\n",
              "    }\n",
              "\n",
              "    .dataframe tbody tr th {\n",
              "        vertical-align: top;\n",
              "    }\n",
              "\n",
              "    .dataframe thead th {\n",
              "        text-align: right;\n",
              "    }\n",
              "</style>\n",
              "<table border=\"1\" class=\"dataframe\">\n",
              "  <thead>\n",
              "    <tr style=\"text-align: right;\">\n",
              "      <th></th>\n",
              "      <th>YEAR</th>\n",
              "      <th>JAN</th>\n",
              "      <th>FEB</th>\n",
              "      <th>MAR</th>\n",
              "      <th>APR</th>\n",
              "      <th>MAY</th>\n",
              "      <th>JUN</th>\n",
              "      <th>JUL</th>\n",
              "      <th>AUG</th>\n",
              "      <th>SEP</th>\n",
              "      <th>OCT</th>\n",
              "      <th>NOV</th>\n",
              "      <th>DEC</th>\n",
              "      <th>D-J-F</th>\n",
              "      <th>M-A-M</th>\n",
              "      <th>J-J-A</th>\n",
              "      <th>S-O-N</th>\n",
              "      <th>metANN</th>\n",
              "    </tr>\n",
              "  </thead>\n",
              "  <tbody>\n",
              "    <tr>\n",
              "      <th>0</th>\n",
              "      <td>1961</td>\n",
              "      <td>999.90</td>\n",
              "      <td>999.90</td>\n",
              "      <td>999.90</td>\n",
              "      <td>999.90</td>\n",
              "      <td>999.90</td>\n",
              "      <td>999.90</td>\n",
              "      <td>999.90</td>\n",
              "      <td>999.90</td>\n",
              "      <td>999.90</td>\n",
              "      <td>999.90</td>\n",
              "      <td>999.90</td>\n",
              "      <td>24.97</td>\n",
              "      <td>999.90</td>\n",
              "      <td>999.90</td>\n",
              "      <td>999.90</td>\n",
              "      <td>999.90</td>\n",
              "      <td>999.90</td>\n",
              "    </tr>\n",
              "    <tr>\n",
              "      <th>1</th>\n",
              "      <td>1962</td>\n",
              "      <td>26.07</td>\n",
              "      <td>25.97</td>\n",
              "      <td>26.07</td>\n",
              "      <td>25.77</td>\n",
              "      <td>24.47</td>\n",
              "      <td>23.37</td>\n",
              "      <td>22.47</td>\n",
              "      <td>22.47</td>\n",
              "      <td>23.37</td>\n",
              "      <td>22.97</td>\n",
              "      <td>24.67</td>\n",
              "      <td>25.18</td>\n",
              "      <td>25.67</td>\n",
              "      <td>25.44</td>\n",
              "      <td>22.77</td>\n",
              "      <td>23.67</td>\n",
              "      <td>24.39</td>\n",
              "    </tr>\n",
              "    <tr>\n",
              "      <th>2</th>\n",
              "      <td>1963</td>\n",
              "      <td>999.90</td>\n",
              "      <td>25.78</td>\n",
              "      <td>26.38</td>\n",
              "      <td>25.68</td>\n",
              "      <td>23.68</td>\n",
              "      <td>999.90</td>\n",
              "      <td>22.08</td>\n",
              "      <td>22.38</td>\n",
              "      <td>23.08</td>\n",
              "      <td>24.18</td>\n",
              "      <td>24.88</td>\n",
              "      <td>24.67</td>\n",
              "      <td>25.51</td>\n",
              "      <td>25.25</td>\n",
              "      <td>22.46</td>\n",
              "      <td>24.05</td>\n",
              "      <td>24.32</td>\n",
              "    </tr>\n",
              "    <tr>\n",
              "      <th>3</th>\n",
              "      <td>1964</td>\n",
              "      <td>25.27</td>\n",
              "      <td>25.67</td>\n",
              "      <td>25.47</td>\n",
              "      <td>24.97</td>\n",
              "      <td>24.07</td>\n",
              "      <td>23.07</td>\n",
              "      <td>22.77</td>\n",
              "      <td>22.77</td>\n",
              "      <td>23.27</td>\n",
              "      <td>23.77</td>\n",
              "      <td>23.87</td>\n",
              "      <td>24.46</td>\n",
              "      <td>25.20</td>\n",
              "      <td>24.84</td>\n",
              "      <td>22.87</td>\n",
              "      <td>23.64</td>\n",
              "      <td>24.14</td>\n",
              "    </tr>\n",
              "    <tr>\n",
              "      <th>4</th>\n",
              "      <td>1965</td>\n",
              "      <td>24.96</td>\n",
              "      <td>25.76</td>\n",
              "      <td>26.06</td>\n",
              "      <td>24.96</td>\n",
              "      <td>24.56</td>\n",
              "      <td>23.56</td>\n",
              "      <td>23.26</td>\n",
              "      <td>22.86</td>\n",
              "      <td>23.66</td>\n",
              "      <td>24.36</td>\n",
              "      <td>24.86</td>\n",
              "      <td>25.35</td>\n",
              "      <td>25.06</td>\n",
              "      <td>25.19</td>\n",
              "      <td>23.23</td>\n",
              "      <td>24.29</td>\n",
              "      <td>24.44</td>\n",
              "    </tr>\n",
              "  </tbody>\n",
              "</table>\n",
              "</div>"
            ],
            "text/plain": [
              "   YEAR     JAN     FEB     MAR     APR  ...   D-J-F   M-A-M   J-J-A   S-O-N  metANN\n",
              "0  1961  999.90  999.90  999.90  999.90  ...  999.90  999.90  999.90  999.90  999.90\n",
              "1  1962   26.07   25.97   26.07   25.77  ...   25.67   25.44   22.77   23.67   24.39\n",
              "2  1963  999.90   25.78   26.38   25.68  ...   25.51   25.25   22.46   24.05   24.32\n",
              "3  1964   25.27   25.67   25.47   24.97  ...   25.20   24.84   22.87   23.64   24.14\n",
              "4  1965   24.96   25.76   26.06   24.96  ...   25.06   25.19   23.23   24.29   24.44\n",
              "\n",
              "[5 rows x 18 columns]"
            ]
          },
          "metadata": {
            "tags": []
          },
          "execution_count": 6
        }
      ]
    },
    {
      "cell_type": "code",
      "metadata": {
        "id": "k6EMhxEluMUU",
        "colab_type": "code",
        "colab": {}
      },
      "source": [
        ""
      ],
      "execution_count": 0,
      "outputs": []
    }
  ]
}